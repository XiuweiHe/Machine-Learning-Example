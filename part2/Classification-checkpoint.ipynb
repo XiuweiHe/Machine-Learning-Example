{
 "cells": [
  {
   "cell_type": "markdown",
   "metadata": {},
   "source": [
    "# 3 A Tour of Machine Learning Classifiers Using Scikit-learn\n",
    "\n",
    "## 3.1 Choosing a classification algorithm\n",
    "\"No Free Lunch\" theorem: no single classifier works best across all possible scenarios.\n",
    "\n",
    "事实上，在处理特定问题过程中我们需要通过比较不同模型的性能表现，根据待处理数据的特征和样本数量，数据中噪声数量，以及类别是线性可分还是线性不可分等。最终，分类器的性能，计算能力和预测能力，很大程度上取决于可以学习到的潜在数据。机器学习的训练过程可以总结为如下的五个主要步骤：\n",
    ">1. Selection of features\n",
    ">2. Choosing a performance metric\n",
    ">3. Choosing a classifier and optimization algorithm\n",
    ">4. Evaluating the performance of the model\n",
    ">5. Tuning the algorithm\n",
    "\n",
    "## 3.2 Training a perceptron via  scikit-learn\n",
    "为了简单，我们选择scikit-learn库中的Iris flower数据集，方便可视化处理选择其中的两个特征，数据集中样本[n_samples,n_features]=[150,4],n_classes= 3.数据准备阶段：1）将数据集划分为training set（70%） 和 testing set（30%） 2）数据预处理[standardization(zero mean, unit variance),scaling features to a range([0,1])，scaling sparse data, mapping features to uniform distribution，features binarilization，normalization)"
   ]
  },
  {
   "cell_type": "code",
   "execution_count": 3,
   "metadata": {},
   "outputs": [
    {
     "name": "stdout",
     "output_type": "stream",
     "text": [
      "Misclassificated  samples: 4\n",
      "Accuarcy : 0.91\n"
     ]
    },
    {
     "name": "stderr",
     "output_type": "stream",
     "text": [
      "D:\\Python35\\lib\\site-packages\\sklearn\\cross_validation.py:41: DeprecationWarning: This module was deprecated in version 0.18 in favor of the model_selection module into which all the refactored classes and functions are moved. Also note that the interface of the new CV iterators are different from that of this module. This module will be removed in 0.20.\n",
      "  \"This module will be removed in 0.20.\", DeprecationWarning)\n"
     ]
    }
   ],
   "source": [
    "#usr! coding=: utf-8\n",
    "from sklearn import datasets\n",
    "from sklearn.cross_validation import train_test_split\n",
    "from sklearn.preprocessing import StandardScaler\n",
    "from sklearn.linear_model import Perceptron\n",
    "from sklearn.metrics import accuracy_score\n",
    "import numpy as np\n",
    "\n",
    "# load dataset\n",
    "iris = datasets.load_iris()\n",
    "X = iris.data[:, [2, 3]]\n",
    "y = iris.target\n",
    "\n",
    "# split the dataset to training set and test set\n",
    "X_train, X_test, y_train, y_test = train_test_split(X, y, test_size = 0.3, random_state= 0)\n",
    "\n",
    "# preprocessing the data\n",
    "sc = StandardScaler()\n",
    "sc.fit(X_train)\n",
    "X_train_std = sc.transform(X_train)\n",
    "X_test_std = sc.transform(X_test)\n",
    "\n",
    "# create the classification model\n",
    "ppn = Perceptron(max_iter= 40, eta0= 0.1, random_state= 0)\n",
    "ppn.fit(X_train_std, y_train)\n",
    "y_pred = ppn.predict(X_test_std)\n",
    "print(\"Misclassificated  samples: %d\" %(y_test != y_pred).sum())\n",
    "print(\"Accuarcy : %.2f\" % accuracy_score(y_test, y_pred))\n",
    "\n"
   ]
  },
  {
   "cell_type": "code",
   "execution_count": null,
   "metadata": {},
   "outputs": [
    {
     "data": {
      "image/png": "[encoded data removed]",
      "text/plain": [
       "<matplotlib.figure.Figure at 0xa59fe80>"
      ]
     },
     "metadata": {},
     "output_type": "display_data"
    }
   ],
   "source": [
    "from matplotlib.colors import ListedColormap\n",
    "import matplotlib.pyplot as plt\n",
    "\n",
    "# the function ploted the decision regions to split the different class data\n",
    "def plot_decision_regions(X, y, classifier, test_idx= None, resolution= 0.02):\n",
    "    # setup maker generator and colormap\n",
    "    markers = ('s', 'x', 'o', '^', 'v')\n",
    "    colors = ('red', 'blue', 'lightgreen', 'gray', 'cyan')\n",
    "    cmap = ListedColormap(colors[:len(np.unique(y))])\n",
    "    \n",
    "    # plot decision surface\n",
    "    x1_min, x1_max = X[:, 0].min() - 1, X[:, 0].max() + 1\n",
    "    x2_min, x2_max = X[:, 1].min() - 1, X[:, 1].max() + 1\n",
    "    xx1, xx2 = np.meshgrid(np.arange(x1_min, x1_max, resolution), np.arange(x2_min, x2_max, resolution))\n",
    "    Z = classifier.predict(np.array([xx1.ravel(), xx2.ravel()]).T)\n",
    "    Z = Z.reshape(xx1.shape)\n",
    "    plt.contourf(xx1, xx2, Z, alpha= 0.4, cmap= cmap)\n",
    "    plt.xlim(xx1.min(), xx1.max())\n",
    "    plt.ylim(xx2.min(), xx2.max())\n",
    "    \n",
    "    # plot all samples\n",
    "    X_test, y_test = X[test_idx, :], y[test_idx]\n",
    "    for idx, cl in enumerate(np.unique(y)):\n",
    "        plt.scatter(x =X[y == cl, 0], y= X[y == cl, 1], alpha = 0.8, c= cmap(idx),\n",
    "                   marker = markers[idx], label = cl)\n",
    "    # heighlight test samples\n",
    "    if test_idx:\n",
    "        X_test, y_test = X[test_idx, :], y[test_idx]\n",
    "        plt.scatter(X_test[:, 0], X_test[:, 1], c= '', alpha = 1.0, linewidth = 1, marker='o', \n",
    "                    s= 55, edgecolors= 'black',label = 'test_set')\n",
    "\n",
    "# plot the decison regions\n",
    "X_combine_std = np.vstack((X_train_std, X_test_std))\n",
    "y_combine = np.hstack((y_train, y_test))\n",
    "plot_decision_regions(X = X_combine_std, y= y_combine, classifier= ppn, test_idx=range(105,150))\n",
    "plt.xlabel('peltal length [standardized]')\n",
    "plt.ylabel('peltal width [standardized]')\n",
    "plt.legend(loc = 'upper left')\n",
    "plt.show()"
   ]
  },
  {
   "cell_type": "markdown",
   "metadata": {
    "collapsed": true
   },
   "source": [
    "## 3.3 Modeling class probabilities via logistic regression\n",
    "\n",
    "虽然，Perceptron 的规则给我们的分类机器学习算法提供一个非常简单的指引性的介绍，但是它存在一个非常严重的缺陷，对于样本类别不是完全线性可分的时不会收敛，很直观的原因是，在weights不断更新的时每一轮训练过程中至少会有一个错误的分类样本存在。当然，我们可以调节learning rate 和增加epoch的数量，但是需要注意的是Perceptron在该类数据集上永远不会收敛。接下来我们介绍一个在处理线性和二分类问题上简单而有力的算法：**Logistics Regression**"
   ]
  },
  {
   "cell_type": "code",
   "execution_count": null,
   "metadata": {
    "collapsed": true
   },
   "outputs": [],
   "source": []
  }
 ],
 "metadata": {
  "kernelspec": {
   "display_name": "Python 3",
   "language": "python",
   "name": "python3"
  },
  "language_info": {
   "codemirror_mode": {
    "name": "ipython",
    "version": 3
   },
   "file_extension": ".py",
   "mimetype": "text/x-python",
   "name": "python",
   "nbconvert_exporter": "python",
   "pygments_lexer": "ipython3",
   "version": "3.5.2"
  }
 },
 "nbformat": 4,
 "nbformat_minor": 1
}
